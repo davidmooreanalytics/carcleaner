{
 "cells": [
  {
   "cell_type": "code",
   "execution_count": 5,
   "metadata": {
    "collapsed": true
   },
   "outputs": [],
   "source": [
    "import pandas as pd\n",
    "import re\n",
    "import tabulate\n",
    "import datetime as dt\n",
    "import jupyter"
   ]
  },
  {
   "cell_type": "markdown",
   "source": [
    "Purpose: This task is to simulate a data cleaning request using a provided\n",
    "German Ebay Car file.  Once the data has been cleaned I will perform some analysis,\n",
    "such as determining average car price, the distribution of ads by date, and representation\n",
    "of car brands."
   ],
   "metadata": {
    "collapsed": false
   }
  },
  {
   "cell_type": "code",
   "execution_count": 7,
   "outputs": [],
   "source": [
    "def adjust_headers(autos):\n",
    "    columns = autos.columns\n",
    "    titles = []\n",
    "    for title in columns:\n",
    "        snake = re.sub('([A-Z]+)', r'_\\1', title).lower()\n",
    "        titles.append(snake)\n",
    "    autos.columns = titles\n",
    "    # There was a specific request to rename 4 rows which will be done below\n",
    "    autos.rename({'year_of_registration': 'registration_year'}, axis=1, inplace=True)\n",
    "    autos.rename({'month_of_registration': 'registration_month'}, axis=1, inplace=True)\n",
    "    autos.rename({'not_repaired_damage': 'unrepaired_damage'}, axis=1, inplace=True)\n",
    "    autos.rename({'date_created': 'ad_created'}, axis=1, inplace=True)\n",
    "    autos.rename({'nr_of_pictures':'num_of_pictures'}, axis=1, inplace=True)\n",
    "    autos.rename({'kilometer': 'odometer_km'}, axis=1, inplace=True)\n",
    "\n",
    "    return autos"
   ],
   "metadata": {
    "collapsed": false,
    "pycharm": {
     "name": "#%%\n"
    }
   }
  },
  {
   "cell_type": "markdown",
   "source": [
    "The format of all column titles are Camel Case (ex: camelCase).  The request specified to replace all instances of Camel Case with Snake Case.  To efficiently do so, I have utilized regex to filter through the file's headers, recognize the Camel Case pattern and replace it with Snake Case.  The supplemental renaming below was due to the prompt's specification for such titles."
   ],
   "metadata": {
    "collapsed": false
   }
  },
  {
   "cell_type": "code",
   "execution_count": 8,
   "outputs": [],
   "source": [
    "def german_to_english(autos):\n",
    "\n",
    "\n",
    "    seller_dict = {'privat':'private', 'gewerblich':'commercial'}\n",
    "    sell = autos['seller']\n",
    "    autos['seller'] = sell.map(seller_dict)\n",
    "\n",
    "    offer_dict = {'Angebot':'Offer', 'Gesuch': 'Request'}\n",
    "    of = autos['offer_type']\n",
    "    autos['offer_type'] = of.map(offer_dict)\n",
    "\n",
    "    vehicle_dict = {'coupe': 'coupe', 'kleinwagen': 'compact', 'limousine': 'limousine',\n",
    "                    'cabrio': 'convertible', 'bus': 'bus', 'kombi': 'station wagon',\n",
    "                    'andere': 'other'}\n",
    "    vehicle_type = autos['vehicle_type']\n",
    "    autos['vehicle_type'] = vehicle_type.map(vehicle_dict)\n",
    "\n",
    "    gear_dict = {'manuell': 'manual', 'automatik': 'automatic'}\n",
    "    gear = autos['gearbox']\n",
    "    autos['gearbox'] = gear.map(gear_dict)\n",
    "\n",
    "    fuel_dict = {'benzin': 'petrol', 'diesel': 'diesel', 'lpg': 'lpg', 'andere': 'alternative',\n",
    "                 'hibrid': 'hybrid', 'cng': 'cng', 'elektro': 'electric'}\n",
    "    fuel = autos['fuel_type']\n",
    "    autos['fuel_type'] = fuel.map(fuel_dict)\n",
    "\n",
    "    repair_dict = {'ja': 'yes', 'nein': 'no'}\n",
    "    repair = autos['unrepaired_damage']\n",
    "    autos['unrepaired_damage'] = repair.map(repair_dict)\n",
    "\n",
    "    return autos"
   ],
   "metadata": {
    "collapsed": false,
    "pycharm": {
     "name": "#%%\n"
    }
   }
  },
  {
   "cell_type": "markdown",
   "source": [
    "In order to make the results more readable for non-english speakers I have created a function to replace all instances with german words with their english counterparts."
   ],
   "metadata": {
    "collapsed": false
   }
  },
  {
   "cell_type": "code",
   "execution_count": 9,
   "outputs": [],
   "source": [
    "def determine_descriptions(autos):\n",
    "    columns = autos.columns\n",
    "    '''\n",
    "    for entry in columns:\n",
    "        formatted = autos[entry].describe\n",
    "        print(formatted)\n",
    "    '''\n",
    "   # print(autos['num_of_pictures'].describe)\n",
    "    autos.drop('num_of_pictures', axis=1, inplace=True)\n",
    "    return autos"
   ],
   "metadata": {
    "collapsed": false,
    "pycharm": {
     "name": "#%%\n"
    }
   }
  },
  {
   "cell_type": "markdown",
   "source": [
    "After running the above function, we can see that all of the values for the \"Number of Photos\" column are all 0.  Therefore, we will remove it from the dataset."
   ],
   "metadata": {
    "collapsed": false
   }
  },
  {
   "cell_type": "code",
   "execution_count": 10,
   "outputs": [],
   "source": [
    "def explore_price_od(autos):\n",
    "   # print(autos[['odometer_km', 'price']].describe())\n",
    "    '''\n",
    "    Price IQR = 7200-1150 = 6050\n",
    "    Price LFence = 1150 - (1.5*6050) = -7,925\n",
    "    Price UFence = 7200 + (1.5*6050) = 16,275\n",
    "    While it is ok that our lower fence is negative, we will go ahead and remove all\n",
    "    zero values from the price column as it is not relatevent to our search\n",
    "\n",
    "    odometer IQR = 150000 - 125000 = 25,000\n",
    "    O LFence = 125000 - (1.5*25000) = 87,500\n",
    "    O UFence = 150000 + (1.5*25000) = 187,500\n",
    "    We can also see that our upper fence will never be reached as the highest value is\n",
    "    150000.\n",
    "    '''\n",
    "    price_upper_fence = 7200 + (1.5*6050)\n",
    "    autos = autos[autos['price'].between(1, price_upper_fence)]\n",
    "\n",
    "    odom_lower_fence = 125000-(1.5*25000)\n",
    "    autos = autos[autos['odometer_km'].between(odom_lower_fence, 150000)]\n",
    "  #  print(autos[['odometer_km','price']].describe())"
   ],
   "metadata": {
    "collapsed": false,
    "pycharm": {
     "name": "#%%\n"
    }
   }
  },
  {
   "cell_type": "code",
   "execution_count": 11,
   "outputs": [],
   "source": [
    "def explore_date(autos):\n",
    "  #  print(autos['date_crawled'].str[:10].unique().size)  # counts the unique crawl dates\n",
    "\n",
    "    date_crawled = (autos['date_crawled']\n",
    "                    .str[:10]\n",
    "                    .value_counts(normalize=True, dropna=False)\n",
    "                    .round(3)\n",
    "                    .sort_index()\n",
    "                    )\n",
    " #   print(tabulate.tabulate(date_crawled.to_frame(), headers=['Date', '% crawled'], tablefmt='psql'))"
   ],
   "metadata": {
    "collapsed": false,
    "pycharm": {
     "name": "#%%\n"
    }
   }
  },
  {
   "cell_type": "code",
   "execution_count": 12,
   "outputs": [],
   "source": [
    "def main():\n",
    "    autos = pd.read_csv('autos.csv', encoding='Latin-1')\n",
    "    autos = adjust_headers(autos)\n",
    "    autos = german_to_english(autos)\n",
    "   # determine_descriptions(autos)\n",
    "    explore_price_od(autos)\n",
    "    explore_date(autos)"
   ],
   "metadata": {
    "collapsed": false,
    "pycharm": {
     "name": "#%%\n"
    }
   }
  },
  {
   "cell_type": "code",
   "execution_count": 13,
   "outputs": [
    {
     "name": "stdout",
     "output_type": "stream",
     "text": [
      "<bound method NDFrame.describe of 0         0\n",
      "1         0\n",
      "2         0\n",
      "3         0\n",
      "4         0\n",
      "         ..\n",
      "371523    0\n",
      "371524    0\n",
      "371525    0\n",
      "371526    0\n",
      "371527    0\n",
      "Name: num_of_pictures, Length: 371528, dtype: int64>\n",
      "34\n",
      "+------------+-------------+\n",
      "| Date       |   % crawled |\n",
      "|------------+-------------|\n",
      "| 2016-03-05 |       0.026 |\n",
      "| 2016-03-06 |       0.014 |\n",
      "| 2016-03-07 |       0.036 |\n",
      "| 2016-03-08 |       0.033 |\n",
      "| 2016-03-09 |       0.034 |\n",
      "| 2016-03-10 |       0.033 |\n",
      "| 2016-03-11 |       0.033 |\n",
      "| 2016-03-12 |       0.036 |\n",
      "| 2016-03-13 |       0.016 |\n",
      "| 2016-03-14 |       0.036 |\n",
      "| 2016-03-15 |       0.033 |\n",
      "| 2016-03-16 |       0.03  |\n",
      "| 2016-03-17 |       0.032 |\n",
      "| 2016-03-18 |       0.013 |\n",
      "| 2016-03-19 |       0.035 |\n",
      "| 2016-03-20 |       0.036 |\n",
      "| 2016-03-21 |       0.036 |\n",
      "| 2016-03-22 |       0.032 |\n",
      "| 2016-03-23 |       0.032 |\n",
      "| 2016-03-24 |       0.03  |\n",
      "| 2016-03-25 |       0.033 |\n",
      "| 2016-03-26 |       0.032 |\n",
      "| 2016-03-27 |       0.03  |\n",
      "| 2016-03-28 |       0.035 |\n",
      "| 2016-03-29 |       0.034 |\n",
      "| 2016-03-30 |       0.034 |\n",
      "| 2016-03-31 |       0.032 |\n",
      "| 2016-04-01 |       0.034 |\n",
      "| 2016-04-02 |       0.035 |\n",
      "| 2016-04-03 |       0.039 |\n",
      "| 2016-04-04 |       0.038 |\n",
      "| 2016-04-05 |       0.013 |\n",
      "| 2016-04-06 |       0.003 |\n",
      "| 2016-04-07 |       0.002 |\n",
      "+------------+-------------+\n"
     ]
    }
   ],
   "source": [
    "if __name__ == '__main__':\n",
    "    main()"
   ],
   "metadata": {
    "collapsed": false,
    "pycharm": {
     "name": "#%%\n"
    }
   }
  },
  {
   "cell_type": "code",
   "execution_count": null,
   "outputs": [],
   "source": [],
   "metadata": {
    "collapsed": false,
    "pycharm": {
     "name": "#%%\n"
    }
   }
  }
 ],
 "metadata": {
  "kernelspec": {
   "display_name": "Python 3",
   "language": "python",
   "name": "python3"
  },
  "language_info": {
   "codemirror_mode": {
    "name": "ipython",
    "version": 2
   },
   "file_extension": ".py",
   "mimetype": "text/x-python",
   "name": "python",
   "nbconvert_exporter": "python",
   "pygments_lexer": "ipython2",
   "version": "2.7.6"
  }
 },
 "nbformat": 4,
 "nbformat_minor": 0
}