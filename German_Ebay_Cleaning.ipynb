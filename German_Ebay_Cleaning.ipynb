{
 "cells": [
  {
   "cell_type": "markdown",
   "metadata": {},
   "source": [
    "# An Exploration of eBay Car Sales Data\n",
    "\n",
    "Thanks to the pandemic, vehicle prices have skyrocketed.  Both new and used cars are selling at historically high levels due to chip shortages and consumer demand.  Thanks to a webscraping provided by user orgesleka, we can see a snapshot of what the German Ebay car market looked like in 2016.  Using the pandas library, I will clean their data as well as perform an exploratory analysis.  An additional file will be uploaded to automate this process should the end user need to perform this analysis for different date periods."
   ]
  },
  {
   "cell_type": "markdown",
   "metadata": {},
   "source": [
    "# Data Dictionary:\n",
    "The following is an overview of the 20 columns in the dataset:\n",
    "\n",
    "-  **dateCrawled** - When this ad was first crawled. All field-values are taken from this date.\n",
    "-  **name** - Name of the car.\n",
    "-  **seller** - Whether the seller is private or a dealer.\n",
    "-  **offerType** - The type of listing\n",
    "-  **price** - The price on the ad to sell the car.\n",
    "-  **abtest** - Whether the listing is included in an A/B test.\n",
    "-  **vehicleType** - The vehicle Type.\n",
    "-  **yearOfRegistration** - The year in which the car was first registered.\n",
    "-  **gearbox** - The transmission type.\n",
    "-  **powerPS** - The power of the car in PS.\n",
    "-  **model** - The car model name.\n",
    "-  **kilometer** - How many kilometers the car has driven.\n",
    "-  **monthOfRegistration** - The month in which the car was first registered.\n",
    "-  **fuelType** - What type of fuel the car uses.\n",
    "-  **brand** - The brand of the car.\n",
    "-  **notRepairedDamage** - If the car has a damage which is not yet repaired.\n",
    "-  **dateCreated** - The date on which the eBay listing was created.\n",
    "-  **nrOfPictures** - The number of pictures in the ad.\n",
    "-  **postalCode** - The postal code for the location of the vehicle.\n",
    "-  **lastSeenOnline** - When the crawler saw this ad last online."
   ]
  },
  {
   "cell_type": "code",
   "execution_count": 1,
   "metadata": {
    "collapsed": true
   },
   "outputs": [],
   "source": [
    "import pandas as pd\n",
    "import numpy as np\n",
    "import re\n",
    "import tabulate as tab\n",
    "import datetime as dt\n",
    "import jupyter\n",
    "import matplotlib.pyplot as plt"
   ]
  },
  {
   "cell_type": "code",
   "execution_count": 2,
   "metadata": {
    "pycharm": {
     "name": "#%%\n"
    }
   },
   "outputs": [],
   "source": [
    "autos = pd.read_csv('autos.csv', encoding='Latin-1')"
   ]
  },
  {
   "cell_type": "code",
   "execution_count": 3,
   "metadata": {
    "pycharm": {
     "name": "#%%\n"
    }
   },
   "outputs": [
    {
     "name": "stdout",
     "output_type": "stream",
     "text": [
      "<class 'pandas.core.frame.DataFrame'>\n",
      "RangeIndex: 371528 entries, 0 to 371527\n",
      "Data columns (total 20 columns):\n",
      " #   Column               Non-Null Count   Dtype \n",
      "---  ------               --------------   ----- \n",
      " 0   dateCrawled          371528 non-null  object\n",
      " 1   name                 371528 non-null  object\n",
      " 2   seller               371528 non-null  object\n",
      " 3   offerType            371528 non-null  object\n",
      " 4   price                371528 non-null  int64 \n",
      " 5   abtest               371528 non-null  object\n",
      " 6   vehicleType          333659 non-null  object\n",
      " 7   yearOfRegistration   371528 non-null  int64 \n",
      " 8   gearbox              351319 non-null  object\n",
      " 9   powerPS              371528 non-null  int64 \n",
      " 10  model                351044 non-null  object\n",
      " 11  kilometer            371528 non-null  int64 \n",
      " 12  monthOfRegistration  371528 non-null  int64 \n",
      " 13  fuelType             338142 non-null  object\n",
      " 14  brand                371528 non-null  object\n",
      " 15  notRepairedDamage    299468 non-null  object\n",
      " 16  dateCreated          371528 non-null  object\n",
      " 17  nrOfPictures         371528 non-null  int64 \n",
      " 18  postalCode           371528 non-null  int64 \n",
      " 19  lastSeen             371528 non-null  object\n",
      "dtypes: int64(7), object(13)\n",
      "memory usage: 56.7+ MB\n"
     ]
    },
    {
     "data": {
      "text/html": [
       "<div>\n",
       "<style scoped>\n",
       "    .dataframe tbody tr th:only-of-type {\n",
       "        vertical-align: middle;\n",
       "    }\n",
       "\n",
       "    .dataframe tbody tr th {\n",
       "        vertical-align: top;\n",
       "    }\n",
       "\n",
       "    .dataframe thead th {\n",
       "        text-align: right;\n",
       "    }\n",
       "</style>\n",
       "<table border=\"1\" class=\"dataframe\">\n",
       "  <thead>\n",
       "    <tr style=\"text-align: right;\">\n",
       "      <th></th>\n",
       "      <th>dateCrawled</th>\n",
       "      <th>name</th>\n",
       "      <th>seller</th>\n",
       "      <th>offerType</th>\n",
       "      <th>price</th>\n",
       "      <th>abtest</th>\n",
       "      <th>vehicleType</th>\n",
       "      <th>yearOfRegistration</th>\n",
       "      <th>gearbox</th>\n",
       "      <th>powerPS</th>\n",
       "      <th>model</th>\n",
       "      <th>kilometer</th>\n",
       "      <th>monthOfRegistration</th>\n",
       "      <th>fuelType</th>\n",
       "      <th>brand</th>\n",
       "      <th>notRepairedDamage</th>\n",
       "      <th>dateCreated</th>\n",
       "      <th>nrOfPictures</th>\n",
       "      <th>postalCode</th>\n",
       "      <th>lastSeen</th>\n",
       "    </tr>\n",
       "  </thead>\n",
       "  <tbody>\n",
       "    <tr>\n",
       "      <th>0</th>\n",
       "      <td>2016-03-24 11:52:17</td>\n",
       "      <td>Golf_3_1.6</td>\n",
       "      <td>privat</td>\n",
       "      <td>Angebot</td>\n",
       "      <td>480</td>\n",
       "      <td>test</td>\n",
       "      <td>NaN</td>\n",
       "      <td>1993</td>\n",
       "      <td>manuell</td>\n",
       "      <td>0</td>\n",
       "      <td>golf</td>\n",
       "      <td>150000</td>\n",
       "      <td>0</td>\n",
       "      <td>benzin</td>\n",
       "      <td>volkswagen</td>\n",
       "      <td>NaN</td>\n",
       "      <td>2016-03-24 00:00:00</td>\n",
       "      <td>0</td>\n",
       "      <td>70435</td>\n",
       "      <td>2016-04-07 03:16:57</td>\n",
       "    </tr>\n",
       "    <tr>\n",
       "      <th>1</th>\n",
       "      <td>2016-03-24 10:58:45</td>\n",
       "      <td>A5_Sportback_2.7_Tdi</td>\n",
       "      <td>privat</td>\n",
       "      <td>Angebot</td>\n",
       "      <td>18300</td>\n",
       "      <td>test</td>\n",
       "      <td>coupe</td>\n",
       "      <td>2011</td>\n",
       "      <td>manuell</td>\n",
       "      <td>190</td>\n",
       "      <td>NaN</td>\n",
       "      <td>125000</td>\n",
       "      <td>5</td>\n",
       "      <td>diesel</td>\n",
       "      <td>audi</td>\n",
       "      <td>ja</td>\n",
       "      <td>2016-03-24 00:00:00</td>\n",
       "      <td>0</td>\n",
       "      <td>66954</td>\n",
       "      <td>2016-04-07 01:46:50</td>\n",
       "    </tr>\n",
       "    <tr>\n",
       "      <th>2</th>\n",
       "      <td>2016-03-14 12:52:21</td>\n",
       "      <td>Jeep_Grand_Cherokee_\"Overland\"</td>\n",
       "      <td>privat</td>\n",
       "      <td>Angebot</td>\n",
       "      <td>9800</td>\n",
       "      <td>test</td>\n",
       "      <td>suv</td>\n",
       "      <td>2004</td>\n",
       "      <td>automatik</td>\n",
       "      <td>163</td>\n",
       "      <td>grand</td>\n",
       "      <td>125000</td>\n",
       "      <td>8</td>\n",
       "      <td>diesel</td>\n",
       "      <td>jeep</td>\n",
       "      <td>NaN</td>\n",
       "      <td>2016-03-14 00:00:00</td>\n",
       "      <td>0</td>\n",
       "      <td>90480</td>\n",
       "      <td>2016-04-05 12:47:46</td>\n",
       "    </tr>\n",
       "  </tbody>\n",
       "</table>\n",
       "</div>"
      ],
      "text/plain": [
       "           dateCrawled                            name  seller offerType  \\\n",
       "0  2016-03-24 11:52:17                      Golf_3_1.6  privat   Angebot   \n",
       "1  2016-03-24 10:58:45            A5_Sportback_2.7_Tdi  privat   Angebot   \n",
       "2  2016-03-14 12:52:21  Jeep_Grand_Cherokee_\"Overland\"  privat   Angebot   \n",
       "\n",
       "   price abtest vehicleType  yearOfRegistration    gearbox  powerPS  model  \\\n",
       "0    480   test         NaN                1993    manuell        0   golf   \n",
       "1  18300   test       coupe                2011    manuell      190    NaN   \n",
       "2   9800   test         suv                2004  automatik      163  grand   \n",
       "\n",
       "   kilometer  monthOfRegistration fuelType       brand notRepairedDamage  \\\n",
       "0     150000                    0   benzin  volkswagen               NaN   \n",
       "1     125000                    5   diesel        audi                ja   \n",
       "2     125000                    8   diesel        jeep               NaN   \n",
       "\n",
       "           dateCreated  nrOfPictures  postalCode             lastSeen  \n",
       "0  2016-03-24 00:00:00             0       70435  2016-04-07 03:16:57  \n",
       "1  2016-03-24 00:00:00             0       66954  2016-04-07 01:46:50  \n",
       "2  2016-03-14 00:00:00             0       90480  2016-04-05 12:47:46  "
      ]
     },
     "execution_count": 3,
     "metadata": {},
     "output_type": "execute_result"
    }
   ],
   "source": [
    "autos.info()\n",
    "autos.head(3)"
   ]
  },
  {
   "cell_type": "markdown",
   "metadata": {},
   "source": [
    "**Observations**\n",
    "-  By running the .info() and .head() functions the following was able to be determined:\n",
    "     -  The dataset contains 20 columns and 371,528 rows\n",
    "     -  We have 5 columns that contain null values (vehicleType (10% null entries), gearbox (5% null entries), model (6% null entries),fuelType (9% null entries), and notRepairedDamage (19% null entries))\n",
    "     -  Titles are in CamelCase instead of SnakeCase.\n",
    "     -  dateCreated, lastSeen, and dateCrawled have their date information stored as object/string data instead of dates and will need to be cleaned."
   ]
  },
  {
   "cell_type": "markdown",
   "metadata": {},
   "source": [
    "**Data Cleaning**:\n",
    "-  **1. Cleaning Column Names**\n",
    "    -  The first item I will clean is the file's column names.  For easier analysis I will convert all camelCase entries to snake_case using regex.  Additionally, the \"client\" specified specific naming conventions for certain rows which will be adjusted after the snake_case conversion.  (To note, normal Python conventions reocommend that we use snake_case, hence why we are changing the column titles.)"
   ]
  },
  {
   "cell_type": "code",
   "execution_count": 4,
   "metadata": {
    "pycharm": {
     "name": "#%%\n"
    }
   },
   "outputs": [],
   "source": [
    "columns = autos.columns\n",
    "titles = []\n",
    "for title in columns:\n",
    "    snake = re.sub('([A-Z]+)', r'_\\1', title).lower()\n",
    "    titles.append(snake)\n",
    "autos.columns = titles\n",
    "    # The specified 6 titles are converted below|\n",
    "autos.rename({'year_of_registration': 'registration_year'}, axis=1, inplace=True)\n",
    "autos.rename({'month_of_registration': 'registration_month'}, axis=1, inplace=True)\n",
    "autos.rename({'not_repaired_damage': 'unrepaired_damage'}, axis=1, inplace=True)\n",
    "autos.rename({'date_created': 'ad_created'}, axis=1, inplace=True)\n",
    "autos.rename({'nr_of_pictures':'num_of_pictures'}, axis=1, inplace=True)\n",
    "autos.rename({'kilometer': 'odometer_km'}, axis=1, inplace=True)"
   ]
  },
  {
   "cell_type": "markdown",
   "metadata": {},
   "source": [
    "Since the file originates from German Ebay, the string entries are all in German.  As a non-German speaker it will be easier to perform analysis with English entries.  The price category will also be converted from Euros to USD."
   ]
  },
  {
   "cell_type": "code",
   "execution_count": 5,
   "metadata": {
    "pycharm": {
     "name": "#%%\n"
    }
   },
   "outputs": [],
   "source": [
    "'''\n",
    "If you would like to see how I quickly determined which words to change please remove\n",
    "the quotes\n",
    "german_list = ['seller', 'offer_type', 'vehicle_type', 'gearbox',\n",
    "               'fuel_type', 'unrepaired_damage']\n",
    "for title in german_list:\n",
    "    print(autos[title].unique())\n",
    "    '''\n",
    "\n",
    "seller_dict = {'privat':'private', 'gewerblich':'commercial'}\n",
    "sell = autos['seller']\n",
    "autos['seller'] = sell.map(seller_dict)\n",
    "\n",
    "offer_dict = {'Angebot':'Offer', 'Gesuch': 'Request'}\n",
    "of = autos['offer_type']\n",
    "autos['offer_type'] = of.map(offer_dict)\n",
    "\n",
    "vehicle_dict = {'coupe': 'coupe', 'kleinwagen': 'compact', 'limousine': 'limousine',\n",
    "                    'cabrio': 'convertible', 'bus': 'bus', 'kombi': 'station wagon',\n",
    "                    'andere': 'other'}\n",
    "vehicle_type = autos['vehicle_type']\n",
    "autos['vehicle_type'] = vehicle_type.map(vehicle_dict)\n",
    "\n",
    "gear_dict = {'manuell': 'manual', 'automatik': 'automatic'}\n",
    "gear = autos['gearbox']\n",
    "autos['gearbox'] = gear.map(gear_dict)\n",
    "\n",
    "fuel_dict = {'benzin': 'petrol', 'diesel': 'diesel', 'lpg': 'lpg', 'andere': 'alternative',\n",
    "                 'hibrid': 'hybrid', 'cng': 'cng', 'elektro': 'electric'}\n",
    "fuel = autos['fuel_type']\n",
    "autos['fuel_type'] = fuel.map(fuel_dict)\n",
    "\n",
    "repair_dict = {'ja': 'yes', 'nein': 'no'}\n",
    "repair = autos['unrepaired_damage']\n",
    "autos['unrepaired_damage'] = repair.map(repair_dict)\n",
    "\n",
    "autos['price'] = autos['price']*.93"
   ]
  },
  {
   "cell_type": "markdown",
   "metadata": {},
   "source": [
    "Now that the entries are in german, we need to determine if all data is worth exploring.\n",
    "By running a for loop we can determine general descriptions.  We will be able to see that all entries of \"Number of Pictures\" results in a value of zero.  Therefore, I will remove it from our dataset."
   ]
  },
  {
   "cell_type": "code",
   "execution_count": 6,
   "metadata": {
    "pycharm": {
     "name": "#%%\n"
    }
   },
   "outputs": [
    {
     "name": "stdout",
     "output_type": "stream",
     "text": [
      "<bound method NDFrame.describe of 0         0\n",
      "1         0\n",
      "2         0\n",
      "3         0\n",
      "4         0\n",
      "         ..\n",
      "371523    0\n",
      "371524    0\n",
      "371525    0\n",
      "371526    0\n",
      "371527    0\n",
      "Name: num_of_pictures, Length: 371528, dtype: int64>\n"
     ]
    }
   ],
   "source": [
    "'''\n",
    "columns = autos.columns\n",
    "for entry in columns:\n",
    "    formatted = autos[entry].describe\n",
    "    print(formatted)\n",
    "    '''\n",
    "print(autos['num_of_pictures'].describe)\n",
    "autos.drop('num_of_pictures', axis=1, inplace=True)"
   ]
  },
  {
   "cell_type": "markdown",
   "metadata": {},
   "source": [
    "With the superfluous column removed we should look at the dataset again to determine further areas that require investigation/cleaning."
   ]
  },
  {
   "cell_type": "code",
   "execution_count": 7,
   "metadata": {
    "pycharm": {
     "name": "#%%\n"
    }
   },
   "outputs": [
    {
     "data": {
      "text/html": [
       "<div>\n",
       "<style scoped>\n",
       "    .dataframe tbody tr th:only-of-type {\n",
       "        vertical-align: middle;\n",
       "    }\n",
       "\n",
       "    .dataframe tbody tr th {\n",
       "        vertical-align: top;\n",
       "    }\n",
       "\n",
       "    .dataframe thead th {\n",
       "        text-align: right;\n",
       "    }\n",
       "</style>\n",
       "<table border=\"1\" class=\"dataframe\">\n",
       "  <thead>\n",
       "    <tr style=\"text-align: right;\">\n",
       "      <th></th>\n",
       "      <th>date_crawled</th>\n",
       "      <th>name</th>\n",
       "      <th>seller</th>\n",
       "      <th>offer_type</th>\n",
       "      <th>price</th>\n",
       "      <th>abtest</th>\n",
       "      <th>vehicle_type</th>\n",
       "      <th>registration_year</th>\n",
       "      <th>gearbox</th>\n",
       "      <th>power_ps</th>\n",
       "      <th>model</th>\n",
       "      <th>odometer_km</th>\n",
       "      <th>registration_month</th>\n",
       "      <th>fuel_type</th>\n",
       "      <th>brand</th>\n",
       "      <th>unrepaired_damage</th>\n",
       "      <th>ad_created</th>\n",
       "      <th>postal_code</th>\n",
       "      <th>last_seen</th>\n",
       "    </tr>\n",
       "  </thead>\n",
       "  <tbody>\n",
       "    <tr>\n",
       "      <th>count</th>\n",
       "      <td>371528</td>\n",
       "      <td>371528</td>\n",
       "      <td>371528</td>\n",
       "      <td>371528</td>\n",
       "      <td>3.715280e+05</td>\n",
       "      <td>371528</td>\n",
       "      <td>318952</td>\n",
       "      <td>371528.000000</td>\n",
       "      <td>351319</td>\n",
       "      <td>371528.000000</td>\n",
       "      <td>351044</td>\n",
       "      <td>371528.000000</td>\n",
       "      <td>371528.000000</td>\n",
       "      <td>337864</td>\n",
       "      <td>371528</td>\n",
       "      <td>299468</td>\n",
       "      <td>371528</td>\n",
       "      <td>371528.00000</td>\n",
       "      <td>371528</td>\n",
       "    </tr>\n",
       "    <tr>\n",
       "      <th>unique</th>\n",
       "      <td>280500</td>\n",
       "      <td>233531</td>\n",
       "      <td>2</td>\n",
       "      <td>2</td>\n",
       "      <td>NaN</td>\n",
       "      <td>2</td>\n",
       "      <td>7</td>\n",
       "      <td>NaN</td>\n",
       "      <td>2</td>\n",
       "      <td>NaN</td>\n",
       "      <td>251</td>\n",
       "      <td>NaN</td>\n",
       "      <td>NaN</td>\n",
       "      <td>6</td>\n",
       "      <td>40</td>\n",
       "      <td>2</td>\n",
       "      <td>114</td>\n",
       "      <td>NaN</td>\n",
       "      <td>182806</td>\n",
       "    </tr>\n",
       "    <tr>\n",
       "      <th>top</th>\n",
       "      <td>2016-03-24 14:49:47</td>\n",
       "      <td>Ford_Fiesta</td>\n",
       "      <td>private</td>\n",
       "      <td>Offer</td>\n",
       "      <td>NaN</td>\n",
       "      <td>test</td>\n",
       "      <td>limousine</td>\n",
       "      <td>NaN</td>\n",
       "      <td>manual</td>\n",
       "      <td>NaN</td>\n",
       "      <td>golf</td>\n",
       "      <td>NaN</td>\n",
       "      <td>NaN</td>\n",
       "      <td>petrol</td>\n",
       "      <td>volkswagen</td>\n",
       "      <td>no</td>\n",
       "      <td>2016-04-03 00:00:00</td>\n",
       "      <td>NaN</td>\n",
       "      <td>2016-04-07 06:45:59</td>\n",
       "    </tr>\n",
       "    <tr>\n",
       "      <th>freq</th>\n",
       "      <td>7</td>\n",
       "      <td>657</td>\n",
       "      <td>371525</td>\n",
       "      <td>371516</td>\n",
       "      <td>NaN</td>\n",
       "      <td>192585</td>\n",
       "      <td>95894</td>\n",
       "      <td>NaN</td>\n",
       "      <td>274214</td>\n",
       "      <td>NaN</td>\n",
       "      <td>30070</td>\n",
       "      <td>NaN</td>\n",
       "      <td>NaN</td>\n",
       "      <td>223857</td>\n",
       "      <td>79640</td>\n",
       "      <td>263182</td>\n",
       "      <td>14450</td>\n",
       "      <td>NaN</td>\n",
       "      <td>17</td>\n",
       "    </tr>\n",
       "    <tr>\n",
       "      <th>mean</th>\n",
       "      <td>NaN</td>\n",
       "      <td>NaN</td>\n",
       "      <td>NaN</td>\n",
       "      <td>NaN</td>\n",
       "      <td>1.608448e+04</td>\n",
       "      <td>NaN</td>\n",
       "      <td>NaN</td>\n",
       "      <td>2004.577997</td>\n",
       "      <td>NaN</td>\n",
       "      <td>115.549477</td>\n",
       "      <td>NaN</td>\n",
       "      <td>125618.688228</td>\n",
       "      <td>5.734445</td>\n",
       "      <td>NaN</td>\n",
       "      <td>NaN</td>\n",
       "      <td>NaN</td>\n",
       "      <td>NaN</td>\n",
       "      <td>50820.66764</td>\n",
       "      <td>NaN</td>\n",
       "    </tr>\n",
       "    <tr>\n",
       "      <th>std</th>\n",
       "      <td>NaN</td>\n",
       "      <td>NaN</td>\n",
       "      <td>NaN</td>\n",
       "      <td>NaN</td>\n",
       "      <td>3.336797e+06</td>\n",
       "      <td>NaN</td>\n",
       "      <td>NaN</td>\n",
       "      <td>92.866598</td>\n",
       "      <td>NaN</td>\n",
       "      <td>192.139578</td>\n",
       "      <td>NaN</td>\n",
       "      <td>40112.337051</td>\n",
       "      <td>3.712412</td>\n",
       "      <td>NaN</td>\n",
       "      <td>NaN</td>\n",
       "      <td>NaN</td>\n",
       "      <td>NaN</td>\n",
       "      <td>25799.08247</td>\n",
       "      <td>NaN</td>\n",
       "    </tr>\n",
       "    <tr>\n",
       "      <th>min</th>\n",
       "      <td>NaN</td>\n",
       "      <td>NaN</td>\n",
       "      <td>NaN</td>\n",
       "      <td>NaN</td>\n",
       "      <td>0.000000e+00</td>\n",
       "      <td>NaN</td>\n",
       "      <td>NaN</td>\n",
       "      <td>1000.000000</td>\n",
       "      <td>NaN</td>\n",
       "      <td>0.000000</td>\n",
       "      <td>NaN</td>\n",
       "      <td>5000.000000</td>\n",
       "      <td>0.000000</td>\n",
       "      <td>NaN</td>\n",
       "      <td>NaN</td>\n",
       "      <td>NaN</td>\n",
       "      <td>NaN</td>\n",
       "      <td>1067.00000</td>\n",
       "      <td>NaN</td>\n",
       "    </tr>\n",
       "    <tr>\n",
       "      <th>25%</th>\n",
       "      <td>NaN</td>\n",
       "      <td>NaN</td>\n",
       "      <td>NaN</td>\n",
       "      <td>NaN</td>\n",
       "      <td>1.069500e+03</td>\n",
       "      <td>NaN</td>\n",
       "      <td>NaN</td>\n",
       "      <td>1999.000000</td>\n",
       "      <td>NaN</td>\n",
       "      <td>70.000000</td>\n",
       "      <td>NaN</td>\n",
       "      <td>125000.000000</td>\n",
       "      <td>3.000000</td>\n",
       "      <td>NaN</td>\n",
       "      <td>NaN</td>\n",
       "      <td>NaN</td>\n",
       "      <td>NaN</td>\n",
       "      <td>30459.00000</td>\n",
       "      <td>NaN</td>\n",
       "    </tr>\n",
       "    <tr>\n",
       "      <th>50%</th>\n",
       "      <td>NaN</td>\n",
       "      <td>NaN</td>\n",
       "      <td>NaN</td>\n",
       "      <td>NaN</td>\n",
       "      <td>2.743500e+03</td>\n",
       "      <td>NaN</td>\n",
       "      <td>NaN</td>\n",
       "      <td>2003.000000</td>\n",
       "      <td>NaN</td>\n",
       "      <td>105.000000</td>\n",
       "      <td>NaN</td>\n",
       "      <td>150000.000000</td>\n",
       "      <td>6.000000</td>\n",
       "      <td>NaN</td>\n",
       "      <td>NaN</td>\n",
       "      <td>NaN</td>\n",
       "      <td>NaN</td>\n",
       "      <td>49610.00000</td>\n",
       "      <td>NaN</td>\n",
       "    </tr>\n",
       "    <tr>\n",
       "      <th>75%</th>\n",
       "      <td>NaN</td>\n",
       "      <td>NaN</td>\n",
       "      <td>NaN</td>\n",
       "      <td>NaN</td>\n",
       "      <td>6.696000e+03</td>\n",
       "      <td>NaN</td>\n",
       "      <td>NaN</td>\n",
       "      <td>2008.000000</td>\n",
       "      <td>NaN</td>\n",
       "      <td>150.000000</td>\n",
       "      <td>NaN</td>\n",
       "      <td>150000.000000</td>\n",
       "      <td>9.000000</td>\n",
       "      <td>NaN</td>\n",
       "      <td>NaN</td>\n",
       "      <td>NaN</td>\n",
       "      <td>NaN</td>\n",
       "      <td>71546.00000</td>\n",
       "      <td>NaN</td>\n",
       "    </tr>\n",
       "    <tr>\n",
       "      <th>max</th>\n",
       "      <td>NaN</td>\n",
       "      <td>NaN</td>\n",
       "      <td>NaN</td>\n",
       "      <td>NaN</td>\n",
       "      <td>1.997160e+09</td>\n",
       "      <td>NaN</td>\n",
       "      <td>NaN</td>\n",
       "      <td>9999.000000</td>\n",
       "      <td>NaN</td>\n",
       "      <td>20000.000000</td>\n",
       "      <td>NaN</td>\n",
       "      <td>150000.000000</td>\n",
       "      <td>12.000000</td>\n",
       "      <td>NaN</td>\n",
       "      <td>NaN</td>\n",
       "      <td>NaN</td>\n",
       "      <td>NaN</td>\n",
       "      <td>99998.00000</td>\n",
       "      <td>NaN</td>\n",
       "    </tr>\n",
       "  </tbody>\n",
       "</table>\n",
       "</div>"
      ],
      "text/plain": [
       "               date_crawled         name   seller offer_type         price  \\\n",
       "count                371528       371528   371528     371528  3.715280e+05   \n",
       "unique               280500       233531        2          2           NaN   \n",
       "top     2016-03-24 14:49:47  Ford_Fiesta  private      Offer           NaN   \n",
       "freq                      7          657   371525     371516           NaN   \n",
       "mean                    NaN          NaN      NaN        NaN  1.608448e+04   \n",
       "std                     NaN          NaN      NaN        NaN  3.336797e+06   \n",
       "min                     NaN          NaN      NaN        NaN  0.000000e+00   \n",
       "25%                     NaN          NaN      NaN        NaN  1.069500e+03   \n",
       "50%                     NaN          NaN      NaN        NaN  2.743500e+03   \n",
       "75%                     NaN          NaN      NaN        NaN  6.696000e+03   \n",
       "max                     NaN          NaN      NaN        NaN  1.997160e+09   \n",
       "\n",
       "        abtest vehicle_type  registration_year gearbox       power_ps   model  \\\n",
       "count   371528       318952      371528.000000  351319  371528.000000  351044   \n",
       "unique       2            7                NaN       2            NaN     251   \n",
       "top       test    limousine                NaN  manual            NaN    golf   \n",
       "freq    192585        95894                NaN  274214            NaN   30070   \n",
       "mean       NaN          NaN        2004.577997     NaN     115.549477     NaN   \n",
       "std        NaN          NaN          92.866598     NaN     192.139578     NaN   \n",
       "min        NaN          NaN        1000.000000     NaN       0.000000     NaN   \n",
       "25%        NaN          NaN        1999.000000     NaN      70.000000     NaN   \n",
       "50%        NaN          NaN        2003.000000     NaN     105.000000     NaN   \n",
       "75%        NaN          NaN        2008.000000     NaN     150.000000     NaN   \n",
       "max        NaN          NaN        9999.000000     NaN   20000.000000     NaN   \n",
       "\n",
       "          odometer_km  registration_month fuel_type       brand  \\\n",
       "count   371528.000000       371528.000000    337864      371528   \n",
       "unique            NaN                 NaN         6          40   \n",
       "top               NaN                 NaN    petrol  volkswagen   \n",
       "freq              NaN                 NaN    223857       79640   \n",
       "mean    125618.688228            5.734445       NaN         NaN   \n",
       "std      40112.337051            3.712412       NaN         NaN   \n",
       "min       5000.000000            0.000000       NaN         NaN   \n",
       "25%     125000.000000            3.000000       NaN         NaN   \n",
       "50%     150000.000000            6.000000       NaN         NaN   \n",
       "75%     150000.000000            9.000000       NaN         NaN   \n",
       "max     150000.000000           12.000000       NaN         NaN   \n",
       "\n",
       "       unrepaired_damage           ad_created   postal_code  \\\n",
       "count             299468               371528  371528.00000   \n",
       "unique                 2                  114           NaN   \n",
       "top                   no  2016-04-03 00:00:00           NaN   \n",
       "freq              263182                14450           NaN   \n",
       "mean                 NaN                  NaN   50820.66764   \n",
       "std                  NaN                  NaN   25799.08247   \n",
       "min                  NaN                  NaN    1067.00000   \n",
       "25%                  NaN                  NaN   30459.00000   \n",
       "50%                  NaN                  NaN   49610.00000   \n",
       "75%                  NaN                  NaN   71546.00000   \n",
       "max                  NaN                  NaN   99998.00000   \n",
       "\n",
       "                  last_seen  \n",
       "count                371528  \n",
       "unique               182806  \n",
       "top     2016-04-07 06:45:59  \n",
       "freq                     17  \n",
       "mean                    NaN  \n",
       "std                     NaN  \n",
       "min                     NaN  \n",
       "25%                     NaN  \n",
       "50%                     NaN  \n",
       "75%                     NaN  \n",
       "max                     NaN  "
      ]
     },
     "execution_count": 7,
     "metadata": {},
     "output_type": "execute_result"
    }
   ],
   "source": [
    "autos.describe(include='all')"
   ]
  },
  {
   "cell_type": "markdown",
   "metadata": {},
   "source": [
    "Any columns containing predominately single values will be considered for removal.  From the chart above I determined that seller, offer_type, abtest, gearbox, and unrepaired_damage require further investigation.\n"
   ]
  },
  {
   "cell_type": "code",
   "execution_count": 8,
   "metadata": {
    "pycharm": {
     "name": "#%%\n"
    }
   },
   "outputs": [
    {
     "name": "stdout",
     "output_type": "stream",
     "text": [
      "====================\n",
      "Column:  seller\n",
      "private       371525\n",
      "commercial         3\n",
      "Name: seller, dtype: int64\n",
      "====================\n",
      "====================\n",
      "Column:  offer_type\n",
      "Offer      371516\n",
      "Request        12\n",
      "Name: offer_type, dtype: int64\n",
      "====================\n",
      "====================\n",
      "Column:  abtest\n",
      "test       192585\n",
      "control    178943\n",
      "Name: abtest, dtype: int64\n",
      "====================\n",
      "====================\n",
      "Column:  gearbox\n",
      "manual       274214\n",
      "automatic     77105\n",
      "Name: gearbox, dtype: int64\n",
      "====================\n",
      "====================\n",
      "Column:  unrepaired_damage\n",
      "no     263182\n",
      "yes     36286\n",
      "Name: unrepaired_damage, dtype: int64\n",
      "====================\n"
     ]
    }
   ],
   "source": [
    "investigate = ['seller', 'offer_type', 'abtest', 'gearbox', 'unrepaired_damage']\n",
    "for title in investigate:\n",
    "    print('='*20)\n",
    "    print('Column: ', title)\n",
    "    print(autos[title].value_counts())\n",
    "    print('='*20)"
   ]
  },
  {
   "cell_type": "markdown",
   "metadata": {},
   "source": [
    "The seller and offer_type columns both have an extremely high proportions of answers in as a single value (\"private\", and \"Offer\" respectively).  Since the density of these answers are not helpful for our analysis I will drop them from our dataset."
   ]
  },
  {
   "cell_type": "code",
   "execution_count": 9,
   "metadata": {
    "pycharm": {
     "name": "#%%\n"
    }
   },
   "outputs": [],
   "source": [
    "autos.drop(['seller', 'offer_type'], axis=1, inplace=True)"
   ]
  },
  {
   "cell_type": "markdown",
   "metadata": {},
   "source": [
    "-  **2. Reformating Numeric Data**\n",
    "    -  In 7 demonstrates that the odemeter category is of type float.  For ease of analysis I will convert it to int type."
   ]
  },
  {
   "cell_type": "code",
   "execution_count": 10,
   "metadata": {
    "pycharm": {
     "name": "#%%\n"
    }
   },
   "outputs": [],
   "source": [
    "autos['odometer_km'] = (autos['odometer_km'].astype(int))"
   ]
  },
  {
   "cell_type": "code",
   "execution_count": 11,
   "metadata": {
    "pycharm": {
     "name": "#%%\n"
    }
   },
   "outputs": [
    {
     "data": {
      "text/plain": [
       "0    150000\n",
       "1    125000\n",
       "2    125000\n",
       "Name: odometer_km, dtype: int32"
      ]
     },
     "execution_count": 11,
     "metadata": {},
     "output_type": "execute_result"
    }
   ],
   "source": [
    "autos['odometer_km'].head(3)"
   ]
  },
  {
   "cell_type": "markdown",
   "metadata": {},
   "source": [
    "**3. Addressing Numeric Outliers**\n",
    "- Before analyzing the data, we should first determine if there are any outliers within the odometer and price columns"
   ]
  },
  {
   "cell_type": "code",
   "execution_count": 12,
   "metadata": {
    "pycharm": {
     "name": "#%%\n"
    }
   },
   "outputs": [
    {
     "data": {
      "text/html": [
       "<div>\n",
       "<style scoped>\n",
       "    .dataframe tbody tr th:only-of-type {\n",
       "        vertical-align: middle;\n",
       "    }\n",
       "\n",
       "    .dataframe tbody tr th {\n",
       "        vertical-align: top;\n",
       "    }\n",
       "\n",
       "    .dataframe thead th {\n",
       "        text-align: right;\n",
       "    }\n",
       "</style>\n",
       "<table border=\"1\" class=\"dataframe\">\n",
       "  <thead>\n",
       "    <tr style=\"text-align: right;\">\n",
       "      <th></th>\n",
       "      <th>odometer_km</th>\n",
       "      <th>price</th>\n",
       "    </tr>\n",
       "  </thead>\n",
       "  <tbody>\n",
       "    <tr>\n",
       "      <th>count</th>\n",
       "      <td>371528.000000</td>\n",
       "      <td>3.715280e+05</td>\n",
       "    </tr>\n",
       "    <tr>\n",
       "      <th>mean</th>\n",
       "      <td>125618.688228</td>\n",
       "      <td>1.608448e+04</td>\n",
       "    </tr>\n",
       "    <tr>\n",
       "      <th>std</th>\n",
       "      <td>40112.337051</td>\n",
       "      <td>3.336797e+06</td>\n",
       "    </tr>\n",
       "    <tr>\n",
       "      <th>min</th>\n",
       "      <td>5000.000000</td>\n",
       "      <td>0.000000e+00</td>\n",
       "    </tr>\n",
       "    <tr>\n",
       "      <th>25%</th>\n",
       "      <td>125000.000000</td>\n",
       "      <td>1.069500e+03</td>\n",
       "    </tr>\n",
       "    <tr>\n",
       "      <th>50%</th>\n",
       "      <td>150000.000000</td>\n",
       "      <td>2.743500e+03</td>\n",
       "    </tr>\n",
       "    <tr>\n",
       "      <th>75%</th>\n",
       "      <td>150000.000000</td>\n",
       "      <td>6.696000e+03</td>\n",
       "    </tr>\n",
       "    <tr>\n",
       "      <th>max</th>\n",
       "      <td>150000.000000</td>\n",
       "      <td>1.997160e+09</td>\n",
       "    </tr>\n",
       "  </tbody>\n",
       "</table>\n",
       "</div>"
      ],
      "text/plain": [
       "         odometer_km         price\n",
       "count  371528.000000  3.715280e+05\n",
       "mean   125618.688228  1.608448e+04\n",
       "std     40112.337051  3.336797e+06\n",
       "min      5000.000000  0.000000e+00\n",
       "25%    125000.000000  1.069500e+03\n",
       "50%    150000.000000  2.743500e+03\n",
       "75%    150000.000000  6.696000e+03\n",
       "max    150000.000000  1.997160e+09"
      ]
     },
     "execution_count": 12,
     "metadata": {},
     "output_type": "execute_result"
    }
   ],
   "source": [
    "autos[['odometer_km', 'price']].describe()"
   ]
  },
  {
   "cell_type": "markdown",
   "metadata": {
    "pycharm": {
     "name": "#%% md\n"
    }
   },
   "source": [
    "**Observations**:\n",
    "-  odometer_km:\n",
    "    -  The median and the third quartile are the same value, therefore we will not experience any outliers from this category.\n",
    "-  price\n",
    "    - There are two issues that can be determined immediately.  \n",
    "        - The max value of 1,997,160,000 will skew our results to the right.  \n",
    "        - Additionally, it appears that there are multiple 0 price entries which will not be useful in analysis as they were likely given as gifts."
   ]
  },
  {
   "cell_type": "markdown",
   "metadata": {},
   "source": [
    "Price Outlier Removal:\n",
    "* Interquartile Range (IQR) = 6,696.00 - 1,069.50 = 5,626.50\n",
    "* Lower Fence = 1,069.50 - (1.50 * 5,626.50) = -7,370.25\n",
    "* Upper Fence = 6,696.00 + (1.50 * 5,626.50) = 15,135.75"
   ]
  },
  {
   "cell_type": "markdown",
   "metadata": {
    "pycharm": {
     "name": "#%% md\n"
    }
   },
   "source": [
    "Lower inner fences can be negative, even if all the data is strictly positive.  However, to determine the risk of eliminating all $0 price entries we will first determine their proportion in the dataset."
   ]
  },
  {
   "cell_type": "code",
   "execution_count": 13,
   "metadata": {
    "pycharm": {
     "name": "#%%\n"
    }
   },
   "outputs": [
    {
     "data": {
      "text/plain": [
       "0.0    10778\n",
       "Name: price, dtype: int64"
      ]
     },
     "execution_count": 13,
     "metadata": {},
     "output_type": "execute_result"
    }
   ],
   "source": [
    "autos['price'].value_counts().head(1)"
   ]
  },
  {
   "cell_type": "markdown",
   "metadata": {},
   "source": [
    "Recall that we have 371,528 entries in the dataset.  All instances of a $0 price make up about 3% of all entries and therefore can be discarded.  This will be done quickly using pandas between() function.  The values that we will keep will be set between 1 and the Upper Fence determined above."
   ]
  },
  {
   "cell_type": "code",
   "execution_count": 14,
   "metadata": {
    "pycharm": {
     "name": "#%%\n"
    }
   },
   "outputs": [
    {
     "data": {
      "text/plain": [
       "count    331453.000000\n",
       "mean       3835.308157\n",
       "std        3574.828289\n",
       "min           1.860000\n",
       "25%        1115.070000\n",
       "50%        2557.500000\n",
       "75%        5579.070000\n",
       "max       15131.100000\n",
       "Name: price, dtype: float64"
      ]
     },
     "execution_count": 14,
     "metadata": {},
     "output_type": "execute_result"
    }
   ],
   "source": [
    "autos = autos[autos['price'].between(1,15135.75)]\n",
    "autos['price'].value_counts().min()\n",
    "\n",
    "autos['price'].describe()"
   ]
  },
  {
   "cell_type": "markdown",
   "metadata": {},
   "source": [
    "**Observations**:\n",
    "- The dataset has been reduced by 40075 rows.  While our data will still be skewed due to the 1 price entries, all rows have been made to be a tangible value and outliers eliminated.\n",
    "- The standard deviation has reduced to 3,573.28, which is considerable more reasonable than the original 3,336,797 standard deviation suggested before the outliers were removed.\n",
    "- The maximum price is better approximated at 15,131.10 as 1,997,160,000 is impossible for the average consumer"
   ]
  },
  {
   "cell_type": "markdown",
   "metadata": {},
   "source": [
    "**4. Exploring the Date Columns**:\n",
    "* There are 3 date columns that are identified as a string:\n",
    "    4a) date_crawled\n",
    "    4b) last_seen\n",
    "    4c) ad_created\n",
    "* Additionally, the registration_month and registration_year columns are properly formatted and can have distribution processing done without any added steps"
   ]
  },
  {
   "cell_type": "markdown",
   "metadata": {},
   "source": [
    "**4a) Date Crawled**"
   ]
  },
  {
   "cell_type": "code",
   "execution_count": 15,
   "metadata": {
    "pycharm": {
     "name": "#%%\n"
    }
   },
   "outputs": [
    {
     "name": "stdout",
     "output_type": "stream",
     "text": [
      "| Date       |   Percent Crawled |\n",
      "|:-----------|------------------:|\n",
      "| 2016-03-05 |             0.026 |\n",
      "| 2016-03-06 |             0.015 |\n",
      "| 2016-03-07 |             0.036 |\n",
      "| 2016-03-08 |             0.034 |\n",
      "| 2016-03-09 |             0.034 |\n",
      "| 2016-03-10 |             0.033 |\n",
      "| 2016-03-11 |             0.033 |\n",
      "| 2016-03-12 |             0.036 |\n",
      "| 2016-03-13 |             0.016 |\n",
      "| 2016-03-14 |             0.036 |\n",
      "| 2016-03-15 |             0.033 |\n",
      "| 2016-03-16 |             0.03  |\n",
      "| 2016-03-17 |             0.032 |\n",
      "| 2016-03-18 |             0.013 |\n",
      "| 2016-03-19 |             0.035 |\n",
      "| 2016-03-20 |             0.036 |\n",
      "| 2016-03-21 |             0.036 |\n",
      "| 2016-03-22 |             0.033 |\n",
      "| 2016-03-23 |             0.032 |\n",
      "| 2016-03-24 |             0.03  |\n",
      "| 2016-03-25 |             0.033 |\n",
      "| 2016-03-26 |             0.032 |\n",
      "| 2016-03-27 |             0.03  |\n",
      "| 2016-03-28 |             0.035 |\n",
      "| 2016-03-29 |             0.034 |\n",
      "| 2016-03-30 |             0.033 |\n",
      "| 2016-03-31 |             0.032 |\n",
      "| 2016-04-01 |             0.034 |\n",
      "| 2016-04-02 |             0.035 |\n",
      "| 2016-04-03 |             0.039 |\n",
      "| 2016-04-04 |             0.037 |\n",
      "| 2016-04-05 |             0.013 |\n",
      "| 2016-04-06 |             0.003 |\n",
      "| 2016-04-07 |             0.002 |\n"
     ]
    }
   ],
   "source": [
    "date_crawled = (autos['date_crawled'].str[:10].value_counts(normalize=True, dropna=False).round(3).sort_index())\n",
    "print(tab.tabulate(date_crawled.to_frame(), headers=['Date', 'Percent Crawled'], tablefmt='pipe'))"
   ]
  },
  {
   "cell_type": "code",
   "execution_count": 16,
   "metadata": {
    "pycharm": {
     "name": "#%%\n"
    }
   },
   "outputs": [
    {
     "data": {
      "image/png": "[encoded data removed]",
      "text/plain": [
       "<Figure size 432x288 with 1 Axes>"
      ]
     },
     "metadata": {
      "needs_background": "light"
     },
     "output_type": "display_data"
    }
   ],
   "source": [
    "plt.rcParams['figure.figsize'] = [8,3.5]\n",
    "plt.rcParams['figure.autolayout'] = True\n",
    "plt.xticks(range(len(date_crawled.index)),date_crawled.index, rotation='vertical')\n",
    "plt.margins(x=0,y=0)\n",
    "plt.xlabel('Date')\n",
    "plt.ylabel('Percent of Total')\n",
    "fig = plt.gca()\n",
    "plt.plot(date_crawled.index, date_crawled.values, '-g')\n",
    "fig.set_ylim([0,.05])\n",
    "plt.title('Ebay Car Ads Crawled: 03-05-2016 Through 04-07-2016')\n",
    "plt.show()"
   ]
  },
  {
   "cell_type": "markdown",
   "metadata": {},
   "source": [
    "Through both the table and graph we see that the number of ads crawled per day was fairly consistent as each entry makes up roughly 3.5% of the total scraped data.  Three major drops can be found on consecutive sundays (2016-03-06 and 2016-03-13) and a single Friday (2016-03-18)."
   ]
  },
  {
   "cell_type": "markdown",
   "metadata": {},
   "source": [
    "**4b) Last Seen**\n",
    "- We can assume that purpose of the \"Last Seen\" category is to determine when and how many ads are removed from the marketplace."
   ]
  },
  {
   "cell_type": "code",
   "execution_count": 17,
   "metadata": {
    "pycharm": {
     "name": "#%%\n"
    }
   },
   "outputs": [
    {
     "name": "stdout",
     "output_type": "stream",
     "text": [
      "| Date       |   Percent Last Seen |\n",
      "|:-----------|--------------------:|\n",
      "| 2016-03-05 |               0.001 |\n",
      "| 2016-03-06 |               0.004 |\n",
      "| 2016-03-07 |               0.005 |\n",
      "| 2016-03-08 |               0.008 |\n",
      "| 2016-03-09 |               0.01  |\n",
      "| 2016-03-10 |               0.012 |\n",
      "| 2016-03-11 |               0.013 |\n",
      "| 2016-03-12 |               0.024 |\n",
      "| 2016-03-13 |               0.009 |\n",
      "| 2016-03-14 |               0.013 |\n",
      "| 2016-03-15 |               0.017 |\n",
      "| 2016-03-16 |               0.017 |\n",
      "| 2016-03-17 |               0.03  |\n",
      "| 2016-03-18 |               0.007 |\n",
      "| 2016-03-19 |               0.017 |\n",
      "| 2016-03-20 |               0.021 |\n",
      "| 2016-03-21 |               0.021 |\n",
      "| 2016-03-22 |               0.021 |\n",
      "| 2016-03-23 |               0.019 |\n",
      "| 2016-03-24 |               0.02  |\n",
      "| 2016-03-25 |               0.02  |\n",
      "| 2016-03-26 |               0.016 |\n",
      "| 2016-03-27 |               0.017 |\n",
      "| 2016-03-28 |               0.023 |\n",
      "| 2016-03-29 |               0.024 |\n",
      "| 2016-03-30 |               0.024 |\n",
      "| 2016-03-31 |               0.025 |\n",
      "| 2016-04-01 |               0.024 |\n",
      "| 2016-04-02 |               0.026 |\n",
      "| 2016-04-03 |               0.026 |\n",
      "| 2016-04-04 |               0.026 |\n",
      "| 2016-04-05 |               0.123 |\n",
      "| 2016-04-06 |               0.211 |\n",
      "| 2016-04-07 |               0.125 |\n"
     ]
    }
   ],
   "source": [
    "last_seen = (autos['last_seen'].str[:10].value_counts(normalize=True, dropna=False).round(3).sort_index())\n",
    "print(tab.tabulate(last_seen.to_frame(), headers=['Date', 'Percent Last Seen'], tablefmt='pipe'))"
   ]
  },
  {
   "cell_type": "code",
   "execution_count": 18,
   "metadata": {
    "pycharm": {
     "name": "#%%\n"
    }
   },
   "outputs": [
    {
     "data": {
      "image/png": "[encoded data removed]",
      "text/plain": [
       "<Figure size 576x252 with 1 Axes>"
      ]
     },
     "metadata": {
      "needs_background": "light"
     },
     "output_type": "display_data"
    }
   ],
   "source": [
    "plt.rcParams['figure.figsize'] = [8,3.5]\n",
    "plt.rcParams['figure.autolayout'] = True\n",
    "plt.xticks(range(len(last_seen.index)),last_seen.index, rotation='vertical')\n",
    "plt.margins(x=0,y=0)\n",
    "plt.xlabel('Date')\n",
    "plt.ylabel('Percent of Total')\n",
    "fig = plt.gca()\n",
    "plt.plot(last_seen.index, last_seen.values, '--b')\n",
    "fig.set_ylim([0,.25])\n",
    "plt.title('Ebay Car Ads Last Seen: 03-05-2016 Through 04-07-2016')\n",
    "plt.show()"
   ]
  },
  {
   "cell_type": "markdown",
   "metadata": {},
   "source": [
    "**Observations:**\n",
    "- The graph demonstrated a spike in removals on April 6th (a Wednesday).\n",
    "- While unusual upon first inspection, there could be a routine ad removal performed by Ebay not accounted for by the scraper."
   ]
  },
  {
   "cell_type": "markdown",
   "metadata": {},
   "source": [
    "**4c) Ads Created Per Day**"
   ]
  },
  {
   "cell_type": "code",
   "execution_count": 19,
   "metadata": {
    "pycharm": {
     "name": "#%%\n"
    }
   },
   "outputs": [
    {
     "name": "stdout",
     "output_type": "stream",
     "text": [
      "| Date       |   Percent Created |\n",
      "|:-----------|------------------:|\n",
      "| 2016-03-05 |             0.001 |\n",
      "| 2016-03-06 |             0.004 |\n",
      "| 2016-03-07 |             0.005 |\n",
      "| 2016-03-08 |             0.008 |\n",
      "| 2016-03-09 |             0.01  |\n",
      "| 2016-03-10 |             0.012 |\n",
      "| 2016-03-11 |             0.013 |\n",
      "| 2016-03-12 |             0.024 |\n",
      "| 2016-03-13 |             0.009 |\n",
      "| 2016-03-14 |             0.013 |\n",
      "| 2016-03-15 |             0.017 |\n",
      "| 2016-03-16 |             0.017 |\n",
      "| 2016-03-17 |             0.03  |\n",
      "| 2016-03-18 |             0.007 |\n",
      "| 2016-03-19 |             0.017 |\n",
      "| 2016-03-20 |             0.021 |\n",
      "| 2016-03-21 |             0.021 |\n",
      "| 2016-03-22 |             0.021 |\n",
      "| 2016-03-23 |             0.019 |\n",
      "| 2016-03-24 |             0.02  |\n",
      "| 2016-03-25 |             0.02  |\n",
      "| 2016-03-26 |             0.016 |\n",
      "| 2016-03-27 |             0.017 |\n",
      "| 2016-03-28 |             0.023 |\n",
      "| 2016-03-29 |             0.024 |\n",
      "| 2016-03-30 |             0.024 |\n",
      "| 2016-03-31 |             0.025 |\n",
      "| 2016-04-01 |             0.024 |\n",
      "| 2016-04-02 |             0.026 |\n",
      "| 2016-04-03 |             0.026 |\n",
      "| 2016-04-04 |             0.026 |\n",
      "| 2016-04-05 |             0.123 |\n",
      "| 2016-04-06 |             0.211 |\n",
      "| 2016-04-07 |             0.125 |\n"
     ]
    }
   ],
   "source": [
    "ad_created = (autos['ad_created'].str[:10].value_counts(normalize=True, dropna=False).round(3).sort_index())\n",
    "print(tab.tabulate(last_seen.to_frame(), headers=['Date', 'Percent Created'], tablefmt='pipe'))"
   ]
  },
  {
   "cell_type": "code",
   "execution_count": 20,
   "metadata": {
    "pycharm": {
     "name": "#%%\n"
    }
   },
   "outputs": [
    {
     "data": {
      "image/png": "[encoded data removed]",
      "text/plain": [
       "<Figure size 1440x252 with 1 Axes>"
      ]
     },
     "metadata": {
      "needs_background": "light"
     },
     "output_type": "display_data"
    }
   ],
   "source": [
    "plt.rcParams['figure.figsize'] = [20,3.5]\n",
    "plt.rcParams['figure.autolayout'] = True\n",
    "plt.xticks(range(len(ad_created.index)),ad_created.index, rotation='vertical')\n",
    "plt.margins(x=0,y=0)\n",
    "plt.xlabel('Date')\n",
    "plt.ylabel('Percent of Total')\n",
    "fig = plt.gca()\n",
    "plt.plot(ad_created.index, ad_created.values, '-r')\n",
    "fig.set_ylim([0,.25])\n",
    "plt.title('Ebay Car Ads Last Seen: 03-05-2016 Through 04-07-2016')\n",
    "plt.show()"
   ]
  },
  {
   "cell_type": "markdown",
   "metadata": {},
   "source": [
    "**Observations:**\n",
    "- It appears that the dataset is housing values from March of 2014 to June of 2016.  However, the date first containing a value is consistent with the scrapers start date of March 5th, 2016.\n",
    "- Further data cleaning will not be done on this graph as the findings will remain the same.  Most ads were created consistently and evenly distributed throughout the month.  It is worth noting that the ads crawled and ads last seen graphs have the same dips in quantity on April 6th, 13th, and 18th."
   ]
  },
  {
   "cell_type": "markdown",
   "metadata": {},
   "source": [
    "**5. Registration Year Exploration**"
   ]
  },
  {
   "cell_type": "code",
   "execution_count": 21,
   "metadata": {
    "pycharm": {
     "name": "#%%\n"
    }
   },
   "outputs": [
    {
     "data": {
      "text/plain": [
       "count    331453.000000\n",
       "mean       2003.861805\n",
       "std          75.660604\n",
       "min        1000.000000\n",
       "25%        1999.000000\n",
       "50%        2003.000000\n",
       "75%        2007.000000\n",
       "max        9999.000000\n",
       "Name: registration_year, dtype: float64"
      ]
     },
     "execution_count": 21,
     "metadata": {},
     "output_type": "execute_result"
    }
   ],
   "source": [
    "autos['registration_year'].describe()"
   ]
  },
  {
   "cell_type": "code",
   "execution_count": 22,
   "metadata": {
    "pycharm": {
     "name": "#%%\n"
    }
   },
   "outputs": [
    {
     "name": "stdout",
     "output_type": "stream",
     "text": [
      "13589\n",
      "Values outside of the years 1910 and 2016 represent 4.1 of the total data\n"
     ]
    }
   ],
   "source": [
    "invalid = (~(autos['registration_year'].between(1900,2016))).sum()\n",
    "print(invalid)\n",
    "percent_invalid = (invalid/(autos['registration_year'].shape[0]))*100\n",
    "print('Values outside of the years 1910 and 2016 represent {:.1f}% of the total data'.format(percent_invalid))"
   ]
  },
  {
   "cell_type": "markdown",
   "metadata": {},
   "source": [
    "**Observation:**\n",
    "* The minimum and maximum values of car registration year are impossible as both 1000 and 9999 are not plausable years of registration.  For the purposes of this study we will limit the registration years between 1910 and 2016."
   ]
  },
  {
   "cell_type": "code",
   "execution_count": 23,
   "metadata": {
    "pycharm": {
     "name": "#%%\n"
    }
   },
   "outputs": [
    {
     "data": {
      "text/plain": [
       "count    317864.000000\n",
       "mean       2002.404588\n",
       "std           6.751840\n",
       "min        1910.000000\n",
       "25%        1999.000000\n",
       "50%        2003.000000\n",
       "75%        2007.000000\n",
       "max        2016.000000\n",
       "Name: registration_year, dtype: float64"
      ]
     },
     "execution_count": 23,
     "metadata": {},
     "output_type": "execute_result"
    }
   ],
   "source": [
    "autos = autos[autos['registration_year'].between(1910,2016)]\n",
    "autos['registration_year'].describe()"
   ]
  },
  {
   "cell_type": "markdown",
   "metadata": {
    "pycharm": {
     "name": "#%% md\n"
    }
   },
   "source": [
    "**Observations:**\n",
    "* After removing impossible results we can see that 13,589 (%4) of the rows have been removed.\n",
    "* The IQR is 93, Lower Fence: 1859, and Upper Fence: 2153.  Therefore, there are no outliers within the data."
   ]
  },
  {
   "cell_type": "code",
   "execution_count": 28,
   "metadata": {
    "pycharm": {
     "name": "#%%\n"
    }
   },
   "outputs": [
    {
     "data": {
      "text/plain": [
       "<AxesSubplot:>"
      ]
     },
     "execution_count": 28,
     "metadata": {},
     "output_type": "execute_result"
    },
    {
     "data": {
      "image/png": "[encoded data removed]",
      "text/plain": [
       "<Figure size 576x576 with 1 Axes>"
      ]
     },
     "metadata": {
      "needs_background": "light"
     },
     "output_type": "display_data"
    }
   ],
   "source": [
    "autos['registration_year'].hist(figsize=(8,8))"
   ]
  },
  {
   "cell_type": "markdown",
   "metadata": {
    "pycharm": {
     "name": "#%% md\n"
    }
   },
   "source": [
    "**Observation:**\n",
    "- The histogram shows that very few registrations occured between 1910 and 1983, with the majority of registrations occuring between 1984 and 2016.  This is likely explained by legislation and record keeping improvements for car registrations."
   ]
  },
  {
   "cell_type": "markdown",
   "metadata": {},
   "source": [
    "**6. Exploring Price by Brand**"
   ]
  },
  {
   "cell_type": "code",
   "execution_count": 29,
   "metadata": {
    "pycharm": {
     "name": "#%%\n"
    }
   },
   "outputs": [
    {
     "name": "stdout",
     "output_type": "stream",
     "text": [
      "| Make           |   % of listings |\n",
      "|:---------------|----------------:|\n",
      "| volkswagen     |     0.215117    |\n",
      "| opel           |     0.114008    |\n",
      "| bmw            |     0.102821    |\n",
      "| mercedes_benz  |     0.0893338   |\n",
      "| audi           |     0.081085    |\n",
      "| ford           |     0.0723894   |\n",
      "| renault        |     0.0512766   |\n",
      "| peugeot        |     0.0324227   |\n",
      "| fiat           |     0.0277477   |\n",
      "| seat           |     0.0195304   |\n",
      "| mazda          |     0.0162428   |\n",
      "| skoda          |     0.0160635   |\n",
      "| smart          |     0.0155664   |\n",
      "| citroen        |     0.0149435   |\n",
      "| nissan         |     0.0140626   |\n",
      "| toyota         |     0.0135309   |\n",
      "| hyundai        |     0.010344    |\n",
      "| volvo          |     0.00923665  |\n",
      "| mitsubishi     |     0.00871127  |\n",
      "| mini           |     0.00867981  |\n",
      "| honda          |     0.00803803  |\n",
      "| sonstige_autos |     0.00766051  |\n",
      "| kia            |     0.00690862  |\n",
      "| suzuki         |     0.0068803   |\n",
      "| alfa_romeo     |     0.00663491  |\n",
      "| chevrolet      |     0.0049927   |\n",
      "| chrysler       |     0.0040898   |\n",
      "| dacia          |     0.00269927  |\n",
      "| daihatsu       |     0.00235321  |\n",
      "| subaru         |     0.00217389  |\n",
      "| jeep           |     0.00184041  |\n",
      "| porsche        |     0.00177749  |\n",
      "| daewoo         |     0.00158244  |\n",
      "| saab           |     0.00154469  |\n",
      "| trabant        |     0.00151637  |\n",
      "| land_rover     |     0.00143458  |\n",
      "| jaguar         |     0.00138739  |\n",
      "| lancia         |     0.00136222  |\n",
      "| rover          |     0.00135907  |\n",
      "| lada           |     0.000651222 |\n"
     ]
    }
   ],
   "source": [
    "make = autos['brand'].value_counts(normalize=True)\n",
    "top_10 = make.head(10).round(2)\n",
    "print(tab.tabulate(make.to_frame(), headers=['Brand', '% of listings'], tablefmt='pipe'))"
   ]
  },
  {
   "cell_type": "code",
   "execution_count": 32,
   "metadata": {
    "pycharm": {
     "name": "#%%\n"
    }
   },
   "outputs": [
    {
     "name": "stdout",
     "output_type": "stream",
     "text": [
      "Index(['volkswagen', 'opel', 'bmw', 'mercedes_benz', 'audi'], dtype='object')\n"
     ]
    }
   ],
   "source": [
    "top_brands = (autos['brand'].value_counts().head(5).index)\n",
    "print(top_brands)"
   ]
  },
  {
   "cell_type": "code",
   "execution_count": 47,
   "metadata": {
    "pycharm": {
     "name": "#%%\n"
    }
   },
   "outputs": [
    {
     "name": "stdout",
     "output_type": "stream",
     "text": [
      "|               |   mean_price |   mean_odometer_km |\n",
      "|:--------------|-------------:|-------------------:|\n",
      "| bmw           |         5339 |             139316 |\n",
      "| audi          |         5311 |             138834 |\n",
      "| mercedes_benz |         4942 |             137605 |\n",
      "| volkswagen    |         3874 |             132739 |\n",
      "| opel          |         2547 |             129878 |\n"
     ]
    }
   ],
   "source": [
    "agg_price = dict()\n",
    "for brand in top_brands:\n",
    "    price = autos['price'][autos['brand']==brand]\n",
    "    mean_p = price.mean()\n",
    "    agg_price[brand] = int(mean_p)\n",
    "\n",
    "p_series = pd.Series(agg_price).sort_values(ascending=False)\n",
    "\n",
    "agg_dist = dict()\n",
    "for km in top_brands:\n",
    "    kilometers = autos['odometer_km'][autos['brand']==km]\n",
    "    mean_km = kilometers.mean()\n",
    "    agg_dist[km] = int(mean_km)\n",
    "\n",
    "km_series = pd.Series(agg_dist)\n",
    "agg_df = pd.DataFrame(data=p_series, columns=['mean_price'])\n",
    "agg_df['mean_odometer_km']=km_series\n",
    "\n",
    "\n",
    "print(tab.tabulate(agg_df, headers='keys', tablefmt='pipe'))"
   ]
  },
  {
   "cell_type": "markdown",
   "metadata": {
    "pycharm": {
     "name": "#%% md\n"
    }
   },
   "source": [
    "**Observations:**\n",
    "* Recall, The median price for all vehicles sold is $2,557.50.\n",
    "* It would be natural to assume that as the distance the vehicle has travelled increases, the price decreases.  However, our findings show that this is not necessarily the case.\n",
    "* BMW has both the highest mean price and the highest mean odometer value, implying that brand name/quality is worth more than the value lost from distance travelled."
   ]
  },
  {
   "cell_type": "code",
   "execution_count": null,
   "metadata": {},
   "outputs": [],
   "source": []
  }
 ],
 "metadata": {
  "kernelspec": {
   "display_name": "Python 3 (ipykernel)",
   "language": "python",
   "name": "python3"
  },
  "language_info": {
   "codemirror_mode": {
    "name": "ipython",
    "version": 3
   },
   "file_extension": ".py",
   "mimetype": "text/x-python",
   "name": "python",
   "nbconvert_exporter": "python",
   "pygments_lexer": "ipython3",
   "version": "3.9.7"
  }
 },
 "nbformat": 4,
 "nbformat_minor": 1
}
